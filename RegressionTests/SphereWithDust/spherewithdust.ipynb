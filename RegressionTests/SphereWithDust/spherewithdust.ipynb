{
 "cells": [
  {
   "cell_type": "code",
   "execution_count": 1,
   "metadata": {
    "collapsed": true
   },
   "outputs": [],
   "source": [
    "import numpy as np\n",
    "import matplotlib.pyplot as plt"
   ]
  },
  {
   "cell_type": "markdown",
   "metadata": {
    "collapsed": true
   },
   "source": [
    "# generate the parameter files"
   ]
  },
  {
   "cell_type": "code",
   "execution_count": 9,
   "metadata": {
    "collapsed": true
   },
   "outputs": [],
   "source": [
    "def analytic(b):\n",
    "    xi = np.sqrt(3)/(0.525)/np.pi**(5./12.)\n",
    "    fesc = 1./(np.cosh(xi*np.sqrt(b)))\n",
    "    return fesc"
   ]
  },
  {
   "cell_type": "code",
   "execution_count": 14,
   "metadata": {},
   "outputs": [
    {
     "name": "stdout",
     "output_type": "stream",
     "text": [
      "parameter set b = 0.01 tau0 = 340425.531915 taud = 0.000625 T = 15.2587890625 log atau0 = 3.61235994797\n",
      "1.0\n",
      "parameter set b = 0.0221541221258 tau0 = 462696.030945 taud = 0.00125 T = 15.2587890625 log atau0 = 3.74563359734\n",
      "1.0\n",
      "parameter set b = 0.0490805127165 tau0 = 628882.37509 taud = 0.0025 T = 15.2587890625 log atau0 = 3.87890724671\n",
      "1.0\n",
      "parameter set b = 0.108733567272 tau0 = 106844.725059 taud = 0.01 T = 15.2587890625 log atau0 = 3.10909090909\n",
      "1.0\n",
      "parameter set b = 0.240889672852 tau0 = 145220.101249 taud = 0.02 T = 15.2587890625 log atau0 = 3.24236455846\n",
      "1.0\n",
      "parameter set b = 0.533669923121 tau0 = 197378.745605 taud = 0.04 T = 15.2587890625 log atau0 = 3.37563820783\n",
      "1.0\n",
      "parameter set b = 1.18229886517 tau0 = 268271.188916 taud = 0.08 T = 15.2587890625 log atau0 = 3.50891185721\n",
      "1.0\n",
      "parameter set b = 2.61927934482 tau0 = 364626.042089 taud = 0.16 T = 15.2587890625 log atau0 = 3.64218550658\n",
      "1.0\n",
      "parameter set b = 5.80278344867 tau0 = 495588.628457 taud = 0.32 T = 15.2587890625 log atau0 = 3.77545915595\n",
      "1.0\n",
      "parameter set b = 12.8555573191 tau0 = 673588.993394 taud = 0.64 T = 15.2587890625 log atau0 = 3.90873280532\n",
      "7.71724030711\n",
      "parameter set b = 28.4803586844 tau0 = 114440.209573 taud = 2.56 T = 15.2587890625 log atau0 = 3.1389164677\n",
      "100.0\n",
      "parameter set b = 63.095734448 tau0 = 155543.652828 taud = 5.12 T = 15.2587890625 log atau0 = 3.27219011707\n",
      "100.0\n"
     ]
    }
   ],
   "source": [
    "from astropy import units as u\n",
    "template = \"template\"\n",
    "import sys\n",
    "sys.path.append(\"/astro/home/christoph.behrens/LLTC/python\")\n",
    "from params_file import params_file\n",
    "template_file = params_file(template)\n",
    "bs = np.logspace(-2,1.8,12)\n",
    "#print bs\n",
    "for i,b in enumerate(bs):\n",
    "    myfilename = \"inputs_\"+repr(i)\n",
    "    template_file = params_file(template)\n",
    "    T = 2e6\n",
    "    taud = 0.01\n",
    "    local_v_thermal=12.85*1.*np.sqrt(T/10000.0)*1e5\n",
    "    a=4.7e-4*(12.85/(local_v_thermal/1.e5))\n",
    "    tau0 = (b/taud)**3/a\n",
    "    while(tau0*a<1e4):\n",
    "        if(T>20.0):\n",
    "            T/=2.\n",
    "            local_v_thermal=12.85*1.*np.sqrt(T/10000.0)*1e5\n",
    "            a=4.7e-4*(12.85/(local_v_thermal/1.e5))\n",
    "        else:\n",
    "            taud/=2.\n",
    "        tau0 = (b/taud)**3/a\n",
    "        #print \"trying\",T,taud,tau0,a*tau0\n",
    "    #print \"found\",np.log10(tau0),tau0*a\n",
    "    while(tau0>1e5 and tau0*a>=1e4):\n",
    "        #print \"trying (2)\"\n",
    "        if(T>20.):\n",
    "            T /= 2.\n",
    "            local_v_thermal=12.85*1.*np.sqrt(T/10000.0)*1e5\n",
    "            a=4.7e-4*(12.85/(local_v_thermal/1.e5))\n",
    "        else:\n",
    "            taud*=2.\n",
    "        tau0 = (b/taud)**3/a\n",
    "    #print \"found(2)\",np.log10(tau0),np.log10(tau0*a),T,taud\n",
    "    #tau0 = 1./np.sqrt(T/2e4)*8.3e6*NH/2e20\n",
    "    print \"parameter set b =\", b, \"tau0 =\",tau0,\"taud =\",taud,\"T =\",T,\"log atau0 =\",np.log10(tau0*a)\n",
    "    #calculate the column density of hydrogen\n",
    "    NH = (tau0*2e20/8.3e6*np.sqrt(T/2e4))*u.cm**-2\n",
    "    slablength =  0.5*u.kpc\n",
    "    rho = (NH/slablength).to(u.cm**-3)\n",
    "    #calculate the dust density\n",
    "    crosssection = 1.009882e+05*u.cm**2/u.g\n",
    "    rho_dust = (taud/crosssection/slablength).to(u.g/u.cm**3)\n",
    "    template_file[\"slab.temperature\"] = T\n",
    "    template_file[\"slab.density_dust\"] = rho_dust.value\n",
    "    template_file[\"slab.density\"] = rho.value\n",
    "    fesc = analytic(b)\n",
    "    factor = 0.01/fesc\n",
    "    factor = max(factor,1.0)\n",
    "    factor = min(1e2,factor)\n",
    "    print factor\n",
    "    template_file[\"number_of_photons\"] = int(template_file[\"number_of_photons\"]*factor)\n",
    "    \n",
    "    \n",
    "        \n",
    "    comment = \"tau0 \"+repr(tau0)+\" taud \"+repr(taud)+\" a*tau0 \"+repr(a*tau0)\n",
    "    template_file.write(myfilename,comment=comment)\n",
    "    "
   ]
  },
  {
   "cell_type": "markdown",
   "metadata": {},
   "source": [
    "# plot the results"
   ]
  },
  {
   "cell_type": "code",
   "execution_count": 15,
   "metadata": {},
   "outputs": [
    {
     "name": "stdout",
     "output_type": "stream",
     "text": [
      "12 12\n"
     ]
    },
    {
     "name": "stderr",
     "output_type": "stream",
     "text": [
      "/astro/home/christoph.behrens/anaconda2/lib/python2.7/site-packages/ipykernel/__main__.py:10: RuntimeWarning: divide by zero encountered in divide\n"
     ]
    },
    {
     "data": {
      "image/png": "[encoded data removed]",
      "text/plain": [
       "<matplotlib.figure.Figure at 0x7f0bf0fc3050>"
      ]
     },
     "metadata": {},
     "output_type": "display_data"
    }
   ],
   "source": [
    "y = analytic(bs)\n",
    "plt.plot(bs,y,label=\"analytic\")\n",
    "nphot = np.zeros(12)\n",
    "for i in range(0,10):\n",
    "    p=params_file(\"inputs_\"+repr(i))\n",
    "    nphot[i] = p[\"number_of_photons\"]\n",
    "data=np.loadtxt(\"escape_fractions.txt\",dtype=str)\n",
    "escaped_photons = data[:,0].astype(int)\n",
    "print bs.size, escaped_photons.size\n",
    "plt.scatter(bs,escaped_photons/nphot,label=\"MC\")\n",
    "#print escaped_photons\n",
    "plt.xscale('log')\n",
    "plt.yscale('log')\n",
    "plt.xlim(0.01,60)\n",
    "plt.ylim(1e-6,1)\n",
    "plt.show()\n"
   ]
  },
  {
   "cell_type": "code",
   "execution_count": null,
   "metadata": {
    "collapsed": true
   },
   "outputs": [],
   "source": []
  }
 ],
 "metadata": {
  "hide_input": false,
  "kernelspec": {
   "display_name": "Python [default]",
   "language": "python",
   "name": "python2"
  },
  "language_info": {
   "codemirror_mode": {
    "name": "ipython",
    "version": 2
   },
   "file_extension": ".py",
   "mimetype": "text/x-python",
   "name": "python",
   "nbconvert_exporter": "python",
   "pygments_lexer": "ipython2",
   "version": "2.7.13"
  }
 },
 "nbformat": 4,
 "nbformat_minor": 1
}
